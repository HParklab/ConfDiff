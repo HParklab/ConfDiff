{
 "cells": [
  {
   "attachments": {},
   "cell_type": "markdown",
   "metadata": {},
   "source": [
    "## Inferencing"
   ]
  },
  {
   "attachments": {},
   "cell_type": "markdown",
   "metadata": {},
   "source": [
    "### Unconditional Sampling"
   ]
  },
  {
   "cell_type": "code",
   "execution_count": 2,
   "metadata": {},
   "outputs": [
    {
     "data": {
      "application/vnd.jupyter.widget-view+json": {
       "model_id": "1cc0ac87caef4554a075be04644f70c6",
       "version_major": 2,
       "version_minor": 0
      },
      "text/plain": [
       "Textarea(value='O=C(/C=C/c1ccco1)Nc1ccc(Cl)c(S(=O)(=O)N2CCOCC2)c1', description='SMILES:', layout=Layout(heigh…"
      ]
     },
     "metadata": {},
     "output_type": "display_data"
    },
    {
     "data": {
      "application/vnd.jupyter.widget-view+json": {
       "model_id": "f4f4d75987d24c83a6c375c25fcc83aa",
       "version_major": 2,
       "version_minor": 0
      },
      "text/plain": [
       "IntSlider(value=4, description='Sample:', max=8, min=1)"
      ]
     },
     "metadata": {},
     "output_type": "display_data"
    },
    {
     "data": {
      "application/vnd.jupyter.widget-view+json": {
       "model_id": "4c42d90cf07d4866bd2b3ac7fb812ffd",
       "version_major": 2,
       "version_minor": 0
      },
      "text/plain": [
       "IntSlider(value=0, description='Timesteps:', max=500, step=10)"
      ]
     },
     "metadata": {},
     "output_type": "display_data"
    },
    {
     "data": {
      "application/vnd.jupyter.widget-view+json": {
       "model_id": "491f6c4a29784b7ba83c4c672cd28e35",
       "version_major": 2,
       "version_minor": 0
      },
      "text/plain": [
       "Dropdown(description='Model:', options=('cluster.pt', 'cluster2.pt', 'cluster3.pt', 'eps=False.pt', 'eps=True.…"
      ]
     },
     "metadata": {},
     "output_type": "display_data"
    },
    {
     "data": {
      "application/vnd.jupyter.widget-view+json": {
       "model_id": "a8e1d9cafa9b435b87dd6e8a7eba42ef",
       "version_major": 2,
       "version_minor": 0
      },
      "text/plain": [
       "ToggleButton(value=False, description='run', icon='check', tooltip='Description')"
      ]
     },
     "metadata": {},
     "output_type": "display_data"
    },
    {
     "data": {
      "application/vnd.jupyter.widget-view+json": {
       "model_id": "b699aff8e3264b35838335b774fb4a8a",
       "version_major": 2,
       "version_minor": 0
      },
      "text/plain": [
       "Checkbox(value=False, description='PDB file save', indent=False)"
      ]
     },
     "metadata": {},
     "output_type": "display_data"
    },
    {
     "name": "stdout",
     "output_type": "stream",
     "text": [
      "rdkit generation\n"
     ]
    },
    {
     "data": {
      "application/3dmoljs_load.v0": "<div id=\"3dmolviewer_17079829599409506\"  style=\"position: relative; width: 400px; height: 400px;\">\n        <p id=\"3dmolwarning_17079829599409506\" style=\"background-color:#ffcccc;color:black\">You appear to be running in JupyterLab (or JavaScript failed to load for some other reason).  You need to install the 3dmol extension: <br>\n        <tt>jupyter labextension install jupyterlab_3dmol</tt></p>\n        </div>\n<script>\n\nvar loadScriptAsync = function(uri){\n  return new Promise((resolve, reject) => {\n    //this is to ignore the existence of requirejs amd\n    var savedexports, savedmodule;\n    if (typeof exports !== 'undefined') savedexports = exports;\n    else exports = {}\n    if (typeof module !== 'undefined') savedmodule = module;\n    else module = {}\n\n    var tag = document.createElement('script');\n    tag.src = uri;\n    tag.async = true;\n    tag.onload = () => {\n        exports = savedexports;\n        module = savedmodule;\n        resolve();\n    };\n  var firstScriptTag = document.getElementsByTagName('script')[0];\n  firstScriptTag.parentNode.insertBefore(tag, firstScriptTag);\n});\n};\n\nif(typeof $3Dmolpromise === 'undefined') {\n$3Dmolpromise = null;\n  $3Dmolpromise = loadScriptAsync('https://cdnjs.cloudflare.com/ajax/libs/3Dmol/2.0.4/3Dmol-min.js');\n}\n\nvar viewer_17079829599409506 = null;\nvar warn = document.getElementById(\"3dmolwarning_17079829599409506\");\nif(warn) {\n    warn.parentNode.removeChild(warn);\n}\n$3Dmolpromise.then(function() {\nviewer_17079829599409506 = $3Dmol.createViewer(document.getElementById(\"3dmolviewer_17079829599409506\"),{backgroundColor:\"white\"});\nviewer_17079829599409506.zoomTo();\n\tviewer_17079829599409506.removeAllModels();\n\tviewer_17079829599409506.addModel(\"\\n     RDKit          3D\\n\\n 26 28  0  0  0  0  0  0  0  0999 V2000\\n    2.9440   -0.1438    1.4084 O   0  0  0  0  0  0  0  0  0  0  0  0\\n    2.8995   -0.1621    0.1537 C   0  0  0  0  0  0  0  0  0  0  0  0\\n    4.1132   -0.0949   -0.6472 C   0  0  0  0  0  0  0  0  0  0  0  0\\n    5.2733   -0.0135   -0.0228 C   0  0  0  0  0  0  0  0  0  0  0  0\\n    6.5418    0.0584   -0.7209 C   0  0  0  0  0  0  0  0  0  0  0  0\\n    7.7661    0.1437   -0.1018 C   0  0  0  0  0  0  0  0  0  0  0  0\\n    8.7170    0.1918   -1.1006 C   0  0  0  0  0  0  0  0  0  0  0  0\\n    8.0191    0.1330   -2.2856 C   0  0  0  0  0  0  0  0  0  0  0  0\\n    6.7366    0.0551   -1.9984 O   0  0  0  0  0  0  0  0  0  0  0  0\\n    1.6017   -0.2516   -0.4266 N   0  0  0  0  0  0  0  0  0  0  0  0\\n    0.4256   -0.3163    0.3884 C   0  0  0  0  0  0  0  0  0  0  0  0\\n    0.4511   -0.2982    1.7542 C   0  0  0  0  0  0  0  0  0  0  0  0\\n   -0.7370   -0.3655    2.4444 C   0  0  0  0  0  0  0  0  0  0  0  0\\n   -1.9699   -0.4519    1.7801 C   0  0  0  0  0  0  0  0  0  0  0  0\\n   -3.4012   -0.5579    2.7568 Cl  0  0  0  0  0  0  0  0  0  0  0  0\\n   -2.0108   -0.4701    0.4203 C   0  0  0  0  0  0  0  0  0  0  0  0\\n   -3.4993   -0.5502   -0.4392 S   0  0  0  0  0  0  0  0  0  0  0  0\\n   -3.2227   -0.7009   -1.9340 O   0  0  0  0  0  0  0  0  0  0  0  0\\n   -4.2902   -1.8001   -0.0879 O   0  0  0  0  0  0  0  0  0  0  0  0\\n   -4.5439    0.7654   -0.2678 N   0  0  0  0  0  0  0  0  0  0  0  0\\n   -5.0405    1.0645    1.0147 C   0  0  0  0  0  0  0  0  0  0  0  0\\n   -6.3631    1.7451    1.0703 C   0  0  0  0  0  0  0  0  0  0  0  0\\n   -7.2599    1.3599    0.1073 O   0  0  0  0  0  0  0  0  0  0  0  0\\n   -6.8472    0.3128   -0.6849 C   0  0  0  0  0  0  0  0  0  0  0  0\\n   -5.5212    0.7474   -1.3239 C   0  0  0  0  0  0  0  0  0  0  0  0\\n   -0.7820   -0.4003   -0.2441 C   0  0  0  0  0  0  0  0  0  0  0  0\\n  1  2  2  0\\n  2  3  1  0\\n  3  4  2  0\\n  4  5  1  0\\n  5  6  2  0\\n  6  7  1  0\\n  7  8  2  0\\n  8  9  1  0\\n  2 10  1  0\\n 10 11  1  0\\n 11 12  2  0\\n 12 13  1  0\\n 13 14  2  0\\n 14 15  1  0\\n 14 16  1  0\\n 16 17  1  0\\n 17 18  2  0\\n 17 19  2  0\\n 17 20  1  0\\n 20 21  1  0\\n 21 22  1  0\\n 22 23  1  0\\n 23 24  1  0\\n 24 25  1  0\\n 16 26  2  0\\n  9  5  1  0\\n 26 11  1  0\\n 25 20  1  0\\nM  END\\n\",\"sdf\");\n\tviewer_17079829599409506.setStyle({\"stick\": {}});\n\tviewer_17079829599409506.setBackgroundColor(\"0xeeeeee\");\n\tviewer_17079829599409506.zoomTo();\nviewer_17079829599409506.render();\n});\n</script>",
      "text/html": [
       "<div id=\"3dmolviewer_17079829599409506\"  style=\"position: relative; width: 400px; height: 400px;\">\n",
       "        <p id=\"3dmolwarning_17079829599409506\" style=\"background-color:#ffcccc;color:black\">You appear to be running in JupyterLab (or JavaScript failed to load for some other reason).  You need to install the 3dmol extension: <br>\n",
       "        <tt>jupyter labextension install jupyterlab_3dmol</tt></p>\n",
       "        </div>\n",
       "<script>\n",
       "\n",
       "var loadScriptAsync = function(uri){\n",
       "  return new Promise((resolve, reject) => {\n",
       "    //this is to ignore the existence of requirejs amd\n",
       "    var savedexports, savedmodule;\n",
       "    if (typeof exports !== 'undefined') savedexports = exports;\n",
       "    else exports = {}\n",
       "    if (typeof module !== 'undefined') savedmodule = module;\n",
       "    else module = {}\n",
       "\n",
       "    var tag = document.createElement('script');\n",
       "    tag.src = uri;\n",
       "    tag.async = true;\n",
       "    tag.onload = () => {\n",
       "        exports = savedexports;\n",
       "        module = savedmodule;\n",
       "        resolve();\n",
       "    };\n",
       "  var firstScriptTag = document.getElementsByTagName('script')[0];\n",
       "  firstScriptTag.parentNode.insertBefore(tag, firstScriptTag);\n",
       "});\n",
       "};\n",
       "\n",
       "if(typeof $3Dmolpromise === 'undefined') {\n",
       "$3Dmolpromise = null;\n",
       "  $3Dmolpromise = loadScriptAsync('https://cdnjs.cloudflare.com/ajax/libs/3Dmol/2.0.4/3Dmol-min.js');\n",
       "}\n",
       "\n",
       "var viewer_17079829599409506 = null;\n",
       "var warn = document.getElementById(\"3dmolwarning_17079829599409506\");\n",
       "if(warn) {\n",
       "    warn.parentNode.removeChild(warn);\n",
       "}\n",
       "$3Dmolpromise.then(function() {\n",
       "viewer_17079829599409506 = $3Dmol.createViewer(document.getElementById(\"3dmolviewer_17079829599409506\"),{backgroundColor:\"white\"});\n",
       "viewer_17079829599409506.zoomTo();\n",
       "\tviewer_17079829599409506.removeAllModels();\n",
       "\tviewer_17079829599409506.addModel(\"\\n     RDKit          3D\\n\\n 26 28  0  0  0  0  0  0  0  0999 V2000\\n    2.9440   -0.1438    1.4084 O   0  0  0  0  0  0  0  0  0  0  0  0\\n    2.8995   -0.1621    0.1537 C   0  0  0  0  0  0  0  0  0  0  0  0\\n    4.1132   -0.0949   -0.6472 C   0  0  0  0  0  0  0  0  0  0  0  0\\n    5.2733   -0.0135   -0.0228 C   0  0  0  0  0  0  0  0  0  0  0  0\\n    6.5418    0.0584   -0.7209 C   0  0  0  0  0  0  0  0  0  0  0  0\\n    7.7661    0.1437   -0.1018 C   0  0  0  0  0  0  0  0  0  0  0  0\\n    8.7170    0.1918   -1.1006 C   0  0  0  0  0  0  0  0  0  0  0  0\\n    8.0191    0.1330   -2.2856 C   0  0  0  0  0  0  0  0  0  0  0  0\\n    6.7366    0.0551   -1.9984 O   0  0  0  0  0  0  0  0  0  0  0  0\\n    1.6017   -0.2516   -0.4266 N   0  0  0  0  0  0  0  0  0  0  0  0\\n    0.4256   -0.3163    0.3884 C   0  0  0  0  0  0  0  0  0  0  0  0\\n    0.4511   -0.2982    1.7542 C   0  0  0  0  0  0  0  0  0  0  0  0\\n   -0.7370   -0.3655    2.4444 C   0  0  0  0  0  0  0  0  0  0  0  0\\n   -1.9699   -0.4519    1.7801 C   0  0  0  0  0  0  0  0  0  0  0  0\\n   -3.4012   -0.5579    2.7568 Cl  0  0  0  0  0  0  0  0  0  0  0  0\\n   -2.0108   -0.4701    0.4203 C   0  0  0  0  0  0  0  0  0  0  0  0\\n   -3.4993   -0.5502   -0.4392 S   0  0  0  0  0  0  0  0  0  0  0  0\\n   -3.2227   -0.7009   -1.9340 O   0  0  0  0  0  0  0  0  0  0  0  0\\n   -4.2902   -1.8001   -0.0879 O   0  0  0  0  0  0  0  0  0  0  0  0\\n   -4.5439    0.7654   -0.2678 N   0  0  0  0  0  0  0  0  0  0  0  0\\n   -5.0405    1.0645    1.0147 C   0  0  0  0  0  0  0  0  0  0  0  0\\n   -6.3631    1.7451    1.0703 C   0  0  0  0  0  0  0  0  0  0  0  0\\n   -7.2599    1.3599    0.1073 O   0  0  0  0  0  0  0  0  0  0  0  0\\n   -6.8472    0.3128   -0.6849 C   0  0  0  0  0  0  0  0  0  0  0  0\\n   -5.5212    0.7474   -1.3239 C   0  0  0  0  0  0  0  0  0  0  0  0\\n   -0.7820   -0.4003   -0.2441 C   0  0  0  0  0  0  0  0  0  0  0  0\\n  1  2  2  0\\n  2  3  1  0\\n  3  4  2  0\\n  4  5  1  0\\n  5  6  2  0\\n  6  7  1  0\\n  7  8  2  0\\n  8  9  1  0\\n  2 10  1  0\\n 10 11  1  0\\n 11 12  2  0\\n 12 13  1  0\\n 13 14  2  0\\n 14 15  1  0\\n 14 16  1  0\\n 16 17  1  0\\n 17 18  2  0\\n 17 19  2  0\\n 17 20  1  0\\n 20 21  1  0\\n 21 22  1  0\\n 22 23  1  0\\n 23 24  1  0\\n 24 25  1  0\\n 16 26  2  0\\n  9  5  1  0\\n 26 11  1  0\\n 25 20  1  0\\nM  END\\n\",\"sdf\");\n",
       "\tviewer_17079829599409506.setStyle({\"stick\": {}});\n",
       "\tviewer_17079829599409506.setBackgroundColor(\"0xeeeeee\");\n",
       "\tviewer_17079829599409506.zoomTo();\n",
       "viewer_17079829599409506.render();\n",
       "});\n",
       "</script>"
      ]
     },
     "metadata": {},
     "output_type": "display_data"
    },
    {
     "name": "stdout",
     "output_type": "stream",
     "text": [
      "\n",
      "confgen generation\n"
     ]
    },
    {
     "data": {
      "application/3dmoljs_load.v0": "<div id=\"3dmolviewer_17079829602667818\"  style=\"position: relative; width: 400px; height: 400px;\">\n        <p id=\"3dmolwarning_17079829602667818\" style=\"background-color:#ffcccc;color:black\">You appear to be running in JupyterLab (or JavaScript failed to load for some other reason).  You need to install the 3dmol extension: <br>\n        <tt>jupyter labextension install jupyterlab_3dmol</tt></p>\n        </div>\n<script>\n\nvar loadScriptAsync = function(uri){\n  return new Promise((resolve, reject) => {\n    //this is to ignore the existence of requirejs amd\n    var savedexports, savedmodule;\n    if (typeof exports !== 'undefined') savedexports = exports;\n    else exports = {}\n    if (typeof module !== 'undefined') savedmodule = module;\n    else module = {}\n\n    var tag = document.createElement('script');\n    tag.src = uri;\n    tag.async = true;\n    tag.onload = () => {\n        exports = savedexports;\n        module = savedmodule;\n        resolve();\n    };\n  var firstScriptTag = document.getElementsByTagName('script')[0];\n  firstScriptTag.parentNode.insertBefore(tag, firstScriptTag);\n});\n};\n\nif(typeof $3Dmolpromise === 'undefined') {\n$3Dmolpromise = null;\n  $3Dmolpromise = loadScriptAsync('https://cdnjs.cloudflare.com/ajax/libs/3Dmol/2.0.4/3Dmol-min.js');\n}\n\nvar viewer_17079829602667818 = null;\nvar warn = document.getElementById(\"3dmolwarning_17079829602667818\");\nif(warn) {\n    warn.parentNode.removeChild(warn);\n}\n$3Dmolpromise.then(function() {\nviewer_17079829602667818 = $3Dmol.createViewer(document.getElementById(\"3dmolviewer_17079829602667818\"),{backgroundColor:\"white\"});\nviewer_17079829602667818.zoomTo();\n\tviewer_17079829602667818.removeAllModels();\n\tviewer_17079829602667818.addModel(\"\\n     RDKit          3D\\n\\n 26 28  0  0  0  0  0  0  0  0999 V2000\\n   -0.3592    2.8784    1.1324 O   0  0  0  0  0  0  0  0  0  0  0  0\\n   -0.2969    2.7596   -0.1024 C   0  0  0  0  0  0  0  0  0  0  0  0\\n   -0.2749    3.9131   -0.9511 C   0  0  0  0  0  0  0  0  0  0  0  0\\n   -0.2271    5.2169   -0.3831 C   0  0  0  0  0  0  0  0  0  0  0  0\\n   -0.1710    6.3254   -1.2648 C   0  0  0  0  0  0  0  0  0  0  0  0\\n   -0.3350    7.6433   -0.9216 C   0  0  0  0  0  0  0  0  0  0  0  0\\n   -0.1645    8.4347   -2.0703 C   0  0  0  0  0  0  0  0  0  0  0  0\\n    0.0621    7.5589   -3.0877 C   0  0  0  0  0  0  0  0  0  0  0  0\\n    0.0655    6.3055   -2.6156 O   0  0  0  0  0  0  0  0  0  0  0  0\\n   -0.2901    1.5034   -0.6268 N   0  0  0  0  0  0  0  0  0  0  0  0\\n   -0.2633    0.3658    0.1317 C   0  0  0  0  0  0  0  0  0  0  0  0\\n   -0.5657    0.3786    1.4753 C   0  0  0  0  0  0  0  0  0  0  0  0\\n   -0.7518   -0.8443    2.1508 C   0  0  0  0  0  0  0  0  0  0  0  0\\n   -0.6134   -2.0590    1.5446 C   0  0  0  0  0  0  0  0  0  0  0  0\\n   -0.9721   -3.3635    2.3568 Cl  0  0  0  0  0  0  0  0  0  0  0  0\\n   -0.0735   -2.0570    0.1731 C   0  0  0  0  0  0  0  0  0  0  0  0\\n    0.3171   -3.4346   -0.7648 S   0  0  0  0  0  0  0  0  0  0  0  0\\n   -0.8077   -3.6993   -1.5852 O   0  0  0  0  0  0  0  0  0  0  0  0\\n    1.5285   -3.1621   -1.4669 O   0  0  0  0  0  0  0  0  0  0  0  0\\n    0.5915   -4.7445    0.1518 N   0  0  0  0  0  0  0  0  0  0  0  0\\n   -0.5331   -5.6856    0.4087 C   0  0  0  0  0  0  0  0  0  0  0  0\\n   -0.4843   -6.1901    1.8239 C   0  0  0  0  0  0  0  0  0  0  0  0\\n    0.8349   -6.6344    2.1419 O   0  0  0  0  0  0  0  0  0  0  0  0\\n    1.8027   -5.5755    2.1057 C   0  0  0  0  0  0  0  0  0  0  0  0\\n    1.9116   -4.9978    0.7325 C   0  0  0  0  0  0  0  0  0  0  0  0\\n    0.0697   -0.8362   -0.4890 C   0  0  0  0  0  0  0  0  0  0  0  0\\n  1  2  2  0\\n  2  3  1  0\\n  3  4  2  0\\n  4  5  1  0\\n  5  6  2  0\\n  6  7  1  0\\n  7  8  2  0\\n  8  9  1  0\\n  2 10  1  0\\n 10 11  1  0\\n 11 12  2  0\\n 12 13  1  0\\n 13 14  2  0\\n 14 15  1  0\\n 14 16  1  0\\n 16 17  1  0\\n 17 18  2  0\\n 17 19  2  0\\n 17 20  1  0\\n 20 21  1  0\\n 21 22  1  0\\n 22 23  1  0\\n 23 24  1  0\\n 24 25  1  0\\n 16 26  2  0\\n  9  5  1  0\\n 26 11  1  0\\n 25 20  1  0\\nM  END\\n\",\"sdf\");\n\tviewer_17079829602667818.setStyle({\"stick\": {}});\n\tviewer_17079829602667818.setBackgroundColor(\"0xeeeeee\");\n\tviewer_17079829602667818.zoomTo();\nviewer_17079829602667818.render();\n});\n</script>",
      "text/html": [
       "<div id=\"3dmolviewer_17079829602667818\"  style=\"position: relative; width: 400px; height: 400px;\">\n",
       "        <p id=\"3dmolwarning_17079829602667818\" style=\"background-color:#ffcccc;color:black\">You appear to be running in JupyterLab (or JavaScript failed to load for some other reason).  You need to install the 3dmol extension: <br>\n",
       "        <tt>jupyter labextension install jupyterlab_3dmol</tt></p>\n",
       "        </div>\n",
       "<script>\n",
       "\n",
       "var loadScriptAsync = function(uri){\n",
       "  return new Promise((resolve, reject) => {\n",
       "    //this is to ignore the existence of requirejs amd\n",
       "    var savedexports, savedmodule;\n",
       "    if (typeof exports !== 'undefined') savedexports = exports;\n",
       "    else exports = {}\n",
       "    if (typeof module !== 'undefined') savedmodule = module;\n",
       "    else module = {}\n",
       "\n",
       "    var tag = document.createElement('script');\n",
       "    tag.src = uri;\n",
       "    tag.async = true;\n",
       "    tag.onload = () => {\n",
       "        exports = savedexports;\n",
       "        module = savedmodule;\n",
       "        resolve();\n",
       "    };\n",
       "  var firstScriptTag = document.getElementsByTagName('script')[0];\n",
       "  firstScriptTag.parentNode.insertBefore(tag, firstScriptTag);\n",
       "});\n",
       "};\n",
       "\n",
       "if(typeof $3Dmolpromise === 'undefined') {\n",
       "$3Dmolpromise = null;\n",
       "  $3Dmolpromise = loadScriptAsync('https://cdnjs.cloudflare.com/ajax/libs/3Dmol/2.0.4/3Dmol-min.js');\n",
       "}\n",
       "\n",
       "var viewer_17079829602667818 = null;\n",
       "var warn = document.getElementById(\"3dmolwarning_17079829602667818\");\n",
       "if(warn) {\n",
       "    warn.parentNode.removeChild(warn);\n",
       "}\n",
       "$3Dmolpromise.then(function() {\n",
       "viewer_17079829602667818 = $3Dmol.createViewer(document.getElementById(\"3dmolviewer_17079829602667818\"),{backgroundColor:\"white\"});\n",
       "viewer_17079829602667818.zoomTo();\n",
       "\tviewer_17079829602667818.removeAllModels();\n",
       "\tviewer_17079829602667818.addModel(\"\\n     RDKit          3D\\n\\n 26 28  0  0  0  0  0  0  0  0999 V2000\\n   -0.3592    2.8784    1.1324 O   0  0  0  0  0  0  0  0  0  0  0  0\\n   -0.2969    2.7596   -0.1024 C   0  0  0  0  0  0  0  0  0  0  0  0\\n   -0.2749    3.9131   -0.9511 C   0  0  0  0  0  0  0  0  0  0  0  0\\n   -0.2271    5.2169   -0.3831 C   0  0  0  0  0  0  0  0  0  0  0  0\\n   -0.1710    6.3254   -1.2648 C   0  0  0  0  0  0  0  0  0  0  0  0\\n   -0.3350    7.6433   -0.9216 C   0  0  0  0  0  0  0  0  0  0  0  0\\n   -0.1645    8.4347   -2.0703 C   0  0  0  0  0  0  0  0  0  0  0  0\\n    0.0621    7.5589   -3.0877 C   0  0  0  0  0  0  0  0  0  0  0  0\\n    0.0655    6.3055   -2.6156 O   0  0  0  0  0  0  0  0  0  0  0  0\\n   -0.2901    1.5034   -0.6268 N   0  0  0  0  0  0  0  0  0  0  0  0\\n   -0.2633    0.3658    0.1317 C   0  0  0  0  0  0  0  0  0  0  0  0\\n   -0.5657    0.3786    1.4753 C   0  0  0  0  0  0  0  0  0  0  0  0\\n   -0.7518   -0.8443    2.1508 C   0  0  0  0  0  0  0  0  0  0  0  0\\n   -0.6134   -2.0590    1.5446 C   0  0  0  0  0  0  0  0  0  0  0  0\\n   -0.9721   -3.3635    2.3568 Cl  0  0  0  0  0  0  0  0  0  0  0  0\\n   -0.0735   -2.0570    0.1731 C   0  0  0  0  0  0  0  0  0  0  0  0\\n    0.3171   -3.4346   -0.7648 S   0  0  0  0  0  0  0  0  0  0  0  0\\n   -0.8077   -3.6993   -1.5852 O   0  0  0  0  0  0  0  0  0  0  0  0\\n    1.5285   -3.1621   -1.4669 O   0  0  0  0  0  0  0  0  0  0  0  0\\n    0.5915   -4.7445    0.1518 N   0  0  0  0  0  0  0  0  0  0  0  0\\n   -0.5331   -5.6856    0.4087 C   0  0  0  0  0  0  0  0  0  0  0  0\\n   -0.4843   -6.1901    1.8239 C   0  0  0  0  0  0  0  0  0  0  0  0\\n    0.8349   -6.6344    2.1419 O   0  0  0  0  0  0  0  0  0  0  0  0\\n    1.8027   -5.5755    2.1057 C   0  0  0  0  0  0  0  0  0  0  0  0\\n    1.9116   -4.9978    0.7325 C   0  0  0  0  0  0  0  0  0  0  0  0\\n    0.0697   -0.8362   -0.4890 C   0  0  0  0  0  0  0  0  0  0  0  0\\n  1  2  2  0\\n  2  3  1  0\\n  3  4  2  0\\n  4  5  1  0\\n  5  6  2  0\\n  6  7  1  0\\n  7  8  2  0\\n  8  9  1  0\\n  2 10  1  0\\n 10 11  1  0\\n 11 12  2  0\\n 12 13  1  0\\n 13 14  2  0\\n 14 15  1  0\\n 14 16  1  0\\n 16 17  1  0\\n 17 18  2  0\\n 17 19  2  0\\n 17 20  1  0\\n 20 21  1  0\\n 21 22  1  0\\n 22 23  1  0\\n 23 24  1  0\\n 24 25  1  0\\n 16 26  2  0\\n  9  5  1  0\\n 26 11  1  0\\n 25 20  1  0\\nM  END\\n\",\"sdf\");\n",
       "\tviewer_17079829602667818.setStyle({\"stick\": {}});\n",
       "\tviewer_17079829602667818.setBackgroundColor(\"0xeeeeee\");\n",
       "\tviewer_17079829602667818.zoomTo();\n",
       "viewer_17079829602667818.render();\n",
       "});\n",
       "</script>"
      ]
     },
     "metadata": {},
     "output_type": "display_data"
    },
    {
     "data": {
      "application/3dmoljs_load.v0": "<div id=\"3dmolviewer_1707982960268016\"  style=\"position: relative; width: 400px; height: 400px;\">\n        <p id=\"3dmolwarning_1707982960268016\" style=\"background-color:#ffcccc;color:black\">You appear to be running in JupyterLab (or JavaScript failed to load for some other reason).  You need to install the 3dmol extension: <br>\n        <tt>jupyter labextension install jupyterlab_3dmol</tt></p>\n        </div>\n<script>\n\nvar loadScriptAsync = function(uri){\n  return new Promise((resolve, reject) => {\n    //this is to ignore the existence of requirejs amd\n    var savedexports, savedmodule;\n    if (typeof exports !== 'undefined') savedexports = exports;\n    else exports = {}\n    if (typeof module !== 'undefined') savedmodule = module;\n    else module = {}\n\n    var tag = document.createElement('script');\n    tag.src = uri;\n    tag.async = true;\n    tag.onload = () => {\n        exports = savedexports;\n        module = savedmodule;\n        resolve();\n    };\n  var firstScriptTag = document.getElementsByTagName('script')[0];\n  firstScriptTag.parentNode.insertBefore(tag, firstScriptTag);\n});\n};\n\nif(typeof $3Dmolpromise === 'undefined') {\n$3Dmolpromise = null;\n  $3Dmolpromise = loadScriptAsync('https://cdnjs.cloudflare.com/ajax/libs/3Dmol/2.0.4/3Dmol-min.js');\n}\n\nvar viewer_1707982960268016 = null;\nvar warn = document.getElementById(\"3dmolwarning_1707982960268016\");\nif(warn) {\n    warn.parentNode.removeChild(warn);\n}\n$3Dmolpromise.then(function() {\nviewer_1707982960268016 = $3Dmol.createViewer(document.getElementById(\"3dmolviewer_1707982960268016\"),{backgroundColor:\"white\"});\nviewer_1707982960268016.zoomTo();\n\tviewer_1707982960268016.removeAllModels();\n\tviewer_1707982960268016.addModel(\"\\n     RDKit          3D\\n\\n 26 28  0  0  0  0  0  0  0  0999 V2000\\n   -0.6531    1.7972    2.4009 O   0  0  0  0  0  0  0  0  0  0  0  0\\n    0.2645    2.1210    1.6141 C   0  0  0  0  0  0  0  0  0  0  0  0\\n    1.0326    3.2929    1.8443 C   0  0  0  0  0  0  0  0  0  0  0  0\\n    0.7405    4.1048    2.9794 C   0  0  0  0  0  0  0  0  0  0  0  0\\n    1.4655    5.3135    3.1223 C   0  0  0  0  0  0  0  0  0  0  0  0\\n    1.3691    6.2139    4.1644 C   0  0  0  0  0  0  0  0  0  0  0  0\\n    2.2098    7.2810    3.8719 C   0  0  0  0  0  0  0  0  0  0  0  0\\n    2.8090    6.9875    2.6405 C   0  0  0  0  0  0  0  0  0  0  0  0\\n    2.3763    5.8189    2.2072 O   0  0  0  0  0  0  0  0  0  0  0  0\\n    0.5599    1.2651    0.5755 N   0  0  0  0  0  0  0  0  0  0  0  0\\n   -0.2661    0.2366    0.2427 C   0  0  0  0  0  0  0  0  0  0  0  0\\n   -1.2590   -0.1925    1.1197 C   0  0  0  0  0  0  0  0  0  0  0  0\\n   -2.1037   -1.2343    0.7429 C   0  0  0  0  0  0  0  0  0  0  0  0\\n   -1.9817   -1.9045   -0.4856 C   0  0  0  0  0  0  0  0  0  0  0  0\\n   -3.0322   -3.1847   -0.8635 Cl  0  0  0  0  0  0  0  0  0  0  0  0\\n   -0.9782   -1.4723   -1.3843 C   0  0  0  0  0  0  0  0  0  0  0  0\\n   -0.8031   -2.1904   -2.9376 S   0  0  0  0  0  0  0  0  0  0  0  0\\n   -2.0757   -2.2623   -3.5823 O   0  0  0  0  0  0  0  0  0  0  0  0\\n    0.2587   -1.5291   -3.6152 O   0  0  0  0  0  0  0  0  0  0  0  0\\n   -0.3200   -3.7529   -2.8014 N   0  0  0  0  0  0  0  0  0  0  0  0\\n   -1.3088   -4.8550   -2.8510 C   0  0  0  0  0  0  0  0  0  0  0  0\\n   -0.9789   -5.9419   -1.8564 C   0  0  0  0  0  0  0  0  0  0  0  0\\n    0.4082   -6.2612   -1.9084 O   0  0  0  0  0  0  0  0  0  0  0  0\\n    1.2753   -5.1489   -1.5744 C   0  0  0  0  0  0  0  0  0  0  0  0\\n    1.1246   -4.0889   -2.6641 C   0  0  0  0  0  0  0  0  0  0  0  0\\n   -0.1334   -0.4135   -1.0015 C   0  0  0  0  0  0  0  0  0  0  0  0\\n  1  2  2  0\\n  2  3  1  0\\n  3  4  2  0\\n  4  5  1  0\\n  5  6  2  0\\n  6  7  1  0\\n  7  8  2  0\\n  8  9  1  0\\n  2 10  1  0\\n 10 11  1  0\\n 11 12  2  0\\n 12 13  1  0\\n 13 14  2  0\\n 14 15  1  0\\n 14 16  1  0\\n 16 17  1  0\\n 17 18  2  0\\n 17 19  2  0\\n 17 20  1  0\\n 20 21  1  0\\n 21 22  1  0\\n 22 23  1  0\\n 23 24  1  0\\n 24 25  1  0\\n 16 26  2  0\\n  9  5  1  0\\n 26 11  1  0\\n 25 20  1  0\\nM  END\\n\",\"sdf\");\n\tviewer_1707982960268016.setStyle({\"stick\": {}});\n\tviewer_1707982960268016.setBackgroundColor(\"0xeeeeee\");\n\tviewer_1707982960268016.zoomTo();\nviewer_1707982960268016.render();\n});\n</script>",
      "text/html": [
       "<div id=\"3dmolviewer_1707982960268016\"  style=\"position: relative; width: 400px; height: 400px;\">\n",
       "        <p id=\"3dmolwarning_1707982960268016\" style=\"background-color:#ffcccc;color:black\">You appear to be running in JupyterLab (or JavaScript failed to load for some other reason).  You need to install the 3dmol extension: <br>\n",
       "        <tt>jupyter labextension install jupyterlab_3dmol</tt></p>\n",
       "        </div>\n",
       "<script>\n",
       "\n",
       "var loadScriptAsync = function(uri){\n",
       "  return new Promise((resolve, reject) => {\n",
       "    //this is to ignore the existence of requirejs amd\n",
       "    var savedexports, savedmodule;\n",
       "    if (typeof exports !== 'undefined') savedexports = exports;\n",
       "    else exports = {}\n",
       "    if (typeof module !== 'undefined') savedmodule = module;\n",
       "    else module = {}\n",
       "\n",
       "    var tag = document.createElement('script');\n",
       "    tag.src = uri;\n",
       "    tag.async = true;\n",
       "    tag.onload = () => {\n",
       "        exports = savedexports;\n",
       "        module = savedmodule;\n",
       "        resolve();\n",
       "    };\n",
       "  var firstScriptTag = document.getElementsByTagName('script')[0];\n",
       "  firstScriptTag.parentNode.insertBefore(tag, firstScriptTag);\n",
       "});\n",
       "};\n",
       "\n",
       "if(typeof $3Dmolpromise === 'undefined') {\n",
       "$3Dmolpromise = null;\n",
       "  $3Dmolpromise = loadScriptAsync('https://cdnjs.cloudflare.com/ajax/libs/3Dmol/2.0.4/3Dmol-min.js');\n",
       "}\n",
       "\n",
       "var viewer_1707982960268016 = null;\n",
       "var warn = document.getElementById(\"3dmolwarning_1707982960268016\");\n",
       "if(warn) {\n",
       "    warn.parentNode.removeChild(warn);\n",
       "}\n",
       "$3Dmolpromise.then(function() {\n",
       "viewer_1707982960268016 = $3Dmol.createViewer(document.getElementById(\"3dmolviewer_1707982960268016\"),{backgroundColor:\"white\"});\n",
       "viewer_1707982960268016.zoomTo();\n",
       "\tviewer_1707982960268016.removeAllModels();\n",
       "\tviewer_1707982960268016.addModel(\"\\n     RDKit          3D\\n\\n 26 28  0  0  0  0  0  0  0  0999 V2000\\n   -0.6531    1.7972    2.4009 O   0  0  0  0  0  0  0  0  0  0  0  0\\n    0.2645    2.1210    1.6141 C   0  0  0  0  0  0  0  0  0  0  0  0\\n    1.0326    3.2929    1.8443 C   0  0  0  0  0  0  0  0  0  0  0  0\\n    0.7405    4.1048    2.9794 C   0  0  0  0  0  0  0  0  0  0  0  0\\n    1.4655    5.3135    3.1223 C   0  0  0  0  0  0  0  0  0  0  0  0\\n    1.3691    6.2139    4.1644 C   0  0  0  0  0  0  0  0  0  0  0  0\\n    2.2098    7.2810    3.8719 C   0  0  0  0  0  0  0  0  0  0  0  0\\n    2.8090    6.9875    2.6405 C   0  0  0  0  0  0  0  0  0  0  0  0\\n    2.3763    5.8189    2.2072 O   0  0  0  0  0  0  0  0  0  0  0  0\\n    0.5599    1.2651    0.5755 N   0  0  0  0  0  0  0  0  0  0  0  0\\n   -0.2661    0.2366    0.2427 C   0  0  0  0  0  0  0  0  0  0  0  0\\n   -1.2590   -0.1925    1.1197 C   0  0  0  0  0  0  0  0  0  0  0  0\\n   -2.1037   -1.2343    0.7429 C   0  0  0  0  0  0  0  0  0  0  0  0\\n   -1.9817   -1.9045   -0.4856 C   0  0  0  0  0  0  0  0  0  0  0  0\\n   -3.0322   -3.1847   -0.8635 Cl  0  0  0  0  0  0  0  0  0  0  0  0\\n   -0.9782   -1.4723   -1.3843 C   0  0  0  0  0  0  0  0  0  0  0  0\\n   -0.8031   -2.1904   -2.9376 S   0  0  0  0  0  0  0  0  0  0  0  0\\n   -2.0757   -2.2623   -3.5823 O   0  0  0  0  0  0  0  0  0  0  0  0\\n    0.2587   -1.5291   -3.6152 O   0  0  0  0  0  0  0  0  0  0  0  0\\n   -0.3200   -3.7529   -2.8014 N   0  0  0  0  0  0  0  0  0  0  0  0\\n   -1.3088   -4.8550   -2.8510 C   0  0  0  0  0  0  0  0  0  0  0  0\\n   -0.9789   -5.9419   -1.8564 C   0  0  0  0  0  0  0  0  0  0  0  0\\n    0.4082   -6.2612   -1.9084 O   0  0  0  0  0  0  0  0  0  0  0  0\\n    1.2753   -5.1489   -1.5744 C   0  0  0  0  0  0  0  0  0  0  0  0\\n    1.1246   -4.0889   -2.6641 C   0  0  0  0  0  0  0  0  0  0  0  0\\n   -0.1334   -0.4135   -1.0015 C   0  0  0  0  0  0  0  0  0  0  0  0\\n  1  2  2  0\\n  2  3  1  0\\n  3  4  2  0\\n  4  5  1  0\\n  5  6  2  0\\n  6  7  1  0\\n  7  8  2  0\\n  8  9  1  0\\n  2 10  1  0\\n 10 11  1  0\\n 11 12  2  0\\n 12 13  1  0\\n 13 14  2  0\\n 14 15  1  0\\n 14 16  1  0\\n 16 17  1  0\\n 17 18  2  0\\n 17 19  2  0\\n 17 20  1  0\\n 20 21  1  0\\n 21 22  1  0\\n 22 23  1  0\\n 23 24  1  0\\n 24 25  1  0\\n 16 26  2  0\\n  9  5  1  0\\n 26 11  1  0\\n 25 20  1  0\\nM  END\\n\",\"sdf\");\n",
       "\tviewer_1707982960268016.setStyle({\"stick\": {}});\n",
       "\tviewer_1707982960268016.setBackgroundColor(\"0xeeeeee\");\n",
       "\tviewer_1707982960268016.zoomTo();\n",
       "viewer_1707982960268016.render();\n",
       "});\n",
       "</script>"
      ]
     },
     "metadata": {},
     "output_type": "display_data"
    },
    {
     "data": {
      "application/3dmoljs_load.v0": "<div id=\"3dmolviewer_17079829602692106\"  style=\"position: relative; width: 400px; height: 400px;\">\n        <p id=\"3dmolwarning_17079829602692106\" style=\"background-color:#ffcccc;color:black\">You appear to be running in JupyterLab (or JavaScript failed to load for some other reason).  You need to install the 3dmol extension: <br>\n        <tt>jupyter labextension install jupyterlab_3dmol</tt></p>\n        </div>\n<script>\n\nvar loadScriptAsync = function(uri){\n  return new Promise((resolve, reject) => {\n    //this is to ignore the existence of requirejs amd\n    var savedexports, savedmodule;\n    if (typeof exports !== 'undefined') savedexports = exports;\n    else exports = {}\n    if (typeof module !== 'undefined') savedmodule = module;\n    else module = {}\n\n    var tag = document.createElement('script');\n    tag.src = uri;\n    tag.async = true;\n    tag.onload = () => {\n        exports = savedexports;\n        module = savedmodule;\n        resolve();\n    };\n  var firstScriptTag = document.getElementsByTagName('script')[0];\n  firstScriptTag.parentNode.insertBefore(tag, firstScriptTag);\n});\n};\n\nif(typeof $3Dmolpromise === 'undefined') {\n$3Dmolpromise = null;\n  $3Dmolpromise = loadScriptAsync('https://cdnjs.cloudflare.com/ajax/libs/3Dmol/2.0.4/3Dmol-min.js');\n}\n\nvar viewer_17079829602692106 = null;\nvar warn = document.getElementById(\"3dmolwarning_17079829602692106\");\nif(warn) {\n    warn.parentNode.removeChild(warn);\n}\n$3Dmolpromise.then(function() {\nviewer_17079829602692106 = $3Dmol.createViewer(document.getElementById(\"3dmolviewer_17079829602692106\"),{backgroundColor:\"white\"});\nviewer_17079829602692106.zoomTo();\n\tviewer_17079829602692106.removeAllModels();\n\tviewer_17079829602692106.addModel(\"\\n     RDKit          3D\\n\\n 26 28  0  0  0  0  0  0  0  0999 V2000\\n    1.1534   -0.6154   -2.7431 O   0  0  0  0  0  0  0  0  0  0  0  0\\n    0.3771   -1.4178   -2.1925 C   0  0  0  0  0  0  0  0  0  0  0  0\\n    0.1919   -2.7313   -2.7122 C   0  0  0  0  0  0  0  0  0  0  0  0\\n    0.9738   -3.1924   -3.7910 C   0  0  0  0  0  0  0  0  0  0  0  0\\n    0.6728   -4.4608   -4.3553 C   0  0  0  0  0  0  0  0  0  0  0  0\\n    1.2036   -4.9735   -5.4993 C   0  0  0  0  0  0  0  0  0  0  0  0\\n    0.7447   -6.3085   -5.6402 C   0  0  0  0  0  0  0  0  0  0  0  0\\n   -0.0806   -6.5463   -4.5850 C   0  0  0  0  0  0  0  0  0  0  0  0\\n   -0.1748   -5.4131   -3.8427 O   0  0  0  0  0  0  0  0  0  0  0  0\\n   -0.3290   -1.0104   -1.0984 N   0  0  0  0  0  0  0  0  0  0  0  0\\n   -0.2653    0.2203   -0.5823 C   0  0  0  0  0  0  0  0  0  0  0  0\\n    0.4351    1.2480   -1.2191 C   0  0  0  0  0  0  0  0  0  0  0  0\\n    0.4709    2.5308   -0.6616 C   0  0  0  0  0  0  0  0  0  0  0  0\\n   -0.1694    2.8563    0.5130 C   0  0  0  0  0  0  0  0  0  0  0  0\\n   -0.1413    4.4637    1.0830 Cl  0  0  0  0  0  0  0  0  0  0  0  0\\n   -0.8562    1.8109    1.1928 C   0  0  0  0  0  0  0  0  0  0  0  0\\n   -1.6912    2.1919    2.6327 S   0  0  0  0  0  0  0  0  0  0  0  0\\n   -2.3686    3.4492    2.4368 O   0  0  0  0  0  0  0  0  0  0  0  0\\n   -2.4501    1.0706    3.0368 O   0  0  0  0  0  0  0  0  0  0  0  0\\n   -0.6515    2.4721    3.8850 N   0  0  0  0  0  0  0  0  0  0  0  0\\n   -0.3091    3.8839    4.2507 C   0  0  0  0  0  0  0  0  0  0  0  0\\n    1.1942    3.9938    4.4137 C   0  0  0  0  0  0  0  0  0  0  0  0\\n    1.6534    2.9748    5.3111 O   0  0  0  0  0  0  0  0  0  0  0  0\\n    1.4092    1.6285    4.8414 C   0  0  0  0  0  0  0  0  0  0  0  0\\n   -0.0903    1.3634    4.6874 C   0  0  0  0  0  0  0  0  0  0  0  0\\n   -0.9029    0.5113    0.6383 C   0  0  0  0  0  0  0  0  0  0  0  0\\n  1  2  2  0\\n  2  3  1  0\\n  3  4  2  0\\n  4  5  1  0\\n  5  6  2  0\\n  6  7  1  0\\n  7  8  2  0\\n  8  9  1  0\\n  2 10  1  0\\n 10 11  1  0\\n 11 12  2  0\\n 12 13  1  0\\n 13 14  2  0\\n 14 15  1  0\\n 14 16  1  0\\n 16 17  1  0\\n 17 18  2  0\\n 17 19  2  0\\n 17 20  1  0\\n 20 21  1  0\\n 21 22  1  0\\n 22 23  1  0\\n 23 24  1  0\\n 24 25  1  0\\n 16 26  2  0\\n  9  5  1  0\\n 26 11  1  0\\n 25 20  1  0\\nM  END\\n\",\"sdf\");\n\tviewer_17079829602692106.setStyle({\"stick\": {}});\n\tviewer_17079829602692106.setBackgroundColor(\"0xeeeeee\");\n\tviewer_17079829602692106.zoomTo();\nviewer_17079829602692106.render();\n});\n</script>",
      "text/html": [
       "<div id=\"3dmolviewer_17079829602692106\"  style=\"position: relative; width: 400px; height: 400px;\">\n",
       "        <p id=\"3dmolwarning_17079829602692106\" style=\"background-color:#ffcccc;color:black\">You appear to be running in JupyterLab (or JavaScript failed to load for some other reason).  You need to install the 3dmol extension: <br>\n",
       "        <tt>jupyter labextension install jupyterlab_3dmol</tt></p>\n",
       "        </div>\n",
       "<script>\n",
       "\n",
       "var loadScriptAsync = function(uri){\n",
       "  return new Promise((resolve, reject) => {\n",
       "    //this is to ignore the existence of requirejs amd\n",
       "    var savedexports, savedmodule;\n",
       "    if (typeof exports !== 'undefined') savedexports = exports;\n",
       "    else exports = {}\n",
       "    if (typeof module !== 'undefined') savedmodule = module;\n",
       "    else module = {}\n",
       "\n",
       "    var tag = document.createElement('script');\n",
       "    tag.src = uri;\n",
       "    tag.async = true;\n",
       "    tag.onload = () => {\n",
       "        exports = savedexports;\n",
       "        module = savedmodule;\n",
       "        resolve();\n",
       "    };\n",
       "  var firstScriptTag = document.getElementsByTagName('script')[0];\n",
       "  firstScriptTag.parentNode.insertBefore(tag, firstScriptTag);\n",
       "});\n",
       "};\n",
       "\n",
       "if(typeof $3Dmolpromise === 'undefined') {\n",
       "$3Dmolpromise = null;\n",
       "  $3Dmolpromise = loadScriptAsync('https://cdnjs.cloudflare.com/ajax/libs/3Dmol/2.0.4/3Dmol-min.js');\n",
       "}\n",
       "\n",
       "var viewer_17079829602692106 = null;\n",
       "var warn = document.getElementById(\"3dmolwarning_17079829602692106\");\n",
       "if(warn) {\n",
       "    warn.parentNode.removeChild(warn);\n",
       "}\n",
       "$3Dmolpromise.then(function() {\n",
       "viewer_17079829602692106 = $3Dmol.createViewer(document.getElementById(\"3dmolviewer_17079829602692106\"),{backgroundColor:\"white\"});\n",
       "viewer_17079829602692106.zoomTo();\n",
       "\tviewer_17079829602692106.removeAllModels();\n",
       "\tviewer_17079829602692106.addModel(\"\\n     RDKit          3D\\n\\n 26 28  0  0  0  0  0  0  0  0999 V2000\\n    1.1534   -0.6154   -2.7431 O   0  0  0  0  0  0  0  0  0  0  0  0\\n    0.3771   -1.4178   -2.1925 C   0  0  0  0  0  0  0  0  0  0  0  0\\n    0.1919   -2.7313   -2.7122 C   0  0  0  0  0  0  0  0  0  0  0  0\\n    0.9738   -3.1924   -3.7910 C   0  0  0  0  0  0  0  0  0  0  0  0\\n    0.6728   -4.4608   -4.3553 C   0  0  0  0  0  0  0  0  0  0  0  0\\n    1.2036   -4.9735   -5.4993 C   0  0  0  0  0  0  0  0  0  0  0  0\\n    0.7447   -6.3085   -5.6402 C   0  0  0  0  0  0  0  0  0  0  0  0\\n   -0.0806   -6.5463   -4.5850 C   0  0  0  0  0  0  0  0  0  0  0  0\\n   -0.1748   -5.4131   -3.8427 O   0  0  0  0  0  0  0  0  0  0  0  0\\n   -0.3290   -1.0104   -1.0984 N   0  0  0  0  0  0  0  0  0  0  0  0\\n   -0.2653    0.2203   -0.5823 C   0  0  0  0  0  0  0  0  0  0  0  0\\n    0.4351    1.2480   -1.2191 C   0  0  0  0  0  0  0  0  0  0  0  0\\n    0.4709    2.5308   -0.6616 C   0  0  0  0  0  0  0  0  0  0  0  0\\n   -0.1694    2.8563    0.5130 C   0  0  0  0  0  0  0  0  0  0  0  0\\n   -0.1413    4.4637    1.0830 Cl  0  0  0  0  0  0  0  0  0  0  0  0\\n   -0.8562    1.8109    1.1928 C   0  0  0  0  0  0  0  0  0  0  0  0\\n   -1.6912    2.1919    2.6327 S   0  0  0  0  0  0  0  0  0  0  0  0\\n   -2.3686    3.4492    2.4368 O   0  0  0  0  0  0  0  0  0  0  0  0\\n   -2.4501    1.0706    3.0368 O   0  0  0  0  0  0  0  0  0  0  0  0\\n   -0.6515    2.4721    3.8850 N   0  0  0  0  0  0  0  0  0  0  0  0\\n   -0.3091    3.8839    4.2507 C   0  0  0  0  0  0  0  0  0  0  0  0\\n    1.1942    3.9938    4.4137 C   0  0  0  0  0  0  0  0  0  0  0  0\\n    1.6534    2.9748    5.3111 O   0  0  0  0  0  0  0  0  0  0  0  0\\n    1.4092    1.6285    4.8414 C   0  0  0  0  0  0  0  0  0  0  0  0\\n   -0.0903    1.3634    4.6874 C   0  0  0  0  0  0  0  0  0  0  0  0\\n   -0.9029    0.5113    0.6383 C   0  0  0  0  0  0  0  0  0  0  0  0\\n  1  2  2  0\\n  2  3  1  0\\n  3  4  2  0\\n  4  5  1  0\\n  5  6  2  0\\n  6  7  1  0\\n  7  8  2  0\\n  8  9  1  0\\n  2 10  1  0\\n 10 11  1  0\\n 11 12  2  0\\n 12 13  1  0\\n 13 14  2  0\\n 14 15  1  0\\n 14 16  1  0\\n 16 17  1  0\\n 17 18  2  0\\n 17 19  2  0\\n 17 20  1  0\\n 20 21  1  0\\n 21 22  1  0\\n 22 23  1  0\\n 23 24  1  0\\n 24 25  1  0\\n 16 26  2  0\\n  9  5  1  0\\n 26 11  1  0\\n 25 20  1  0\\nM  END\\n\",\"sdf\");\n",
       "\tviewer_17079829602692106.setStyle({\"stick\": {}});\n",
       "\tviewer_17079829602692106.setBackgroundColor(\"0xeeeeee\");\n",
       "\tviewer_17079829602692106.zoomTo();\n",
       "viewer_17079829602692106.render();\n",
       "});\n",
       "</script>"
      ]
     },
     "metadata": {},
     "output_type": "display_data"
    },
    {
     "data": {
      "application/3dmoljs_load.v0": "<div id=\"3dmolviewer_17079829602703097\"  style=\"position: relative; width: 400px; height: 400px;\">\n        <p id=\"3dmolwarning_17079829602703097\" style=\"background-color:#ffcccc;color:black\">You appear to be running in JupyterLab (or JavaScript failed to load for some other reason).  You need to install the 3dmol extension: <br>\n        <tt>jupyter labextension install jupyterlab_3dmol</tt></p>\n        </div>\n<script>\n\nvar loadScriptAsync = function(uri){\n  return new Promise((resolve, reject) => {\n    //this is to ignore the existence of requirejs amd\n    var savedexports, savedmodule;\n    if (typeof exports !== 'undefined') savedexports = exports;\n    else exports = {}\n    if (typeof module !== 'undefined') savedmodule = module;\n    else module = {}\n\n    var tag = document.createElement('script');\n    tag.src = uri;\n    tag.async = true;\n    tag.onload = () => {\n        exports = savedexports;\n        module = savedmodule;\n        resolve();\n    };\n  var firstScriptTag = document.getElementsByTagName('script')[0];\n  firstScriptTag.parentNode.insertBefore(tag, firstScriptTag);\n});\n};\n\nif(typeof $3Dmolpromise === 'undefined') {\n$3Dmolpromise = null;\n  $3Dmolpromise = loadScriptAsync('https://cdnjs.cloudflare.com/ajax/libs/3Dmol/2.0.4/3Dmol-min.js');\n}\n\nvar viewer_17079829602703097 = null;\nvar warn = document.getElementById(\"3dmolwarning_17079829602703097\");\nif(warn) {\n    warn.parentNode.removeChild(warn);\n}\n$3Dmolpromise.then(function() {\nviewer_17079829602703097 = $3Dmol.createViewer(document.getElementById(\"3dmolviewer_17079829602703097\"),{backgroundColor:\"white\"});\nviewer_17079829602703097.zoomTo();\n\tviewer_17079829602703097.removeAllModels();\n\tviewer_17079829602703097.addModel(\"\\n     RDKit          3D\\n\\n 26 28  0  0  0  0  0  0  0  0999 V2000\\n    1.3582   -1.0535    2.5500 O   0  0  0  0  0  0  0  0  0  0  0  0\\n    0.1833   -0.6496    2.6732 C   0  0  0  0  0  0  0  0  0  0  0  0\\n   -0.4946   -0.7554    3.9401 C   0  0  0  0  0  0  0  0  0  0  0  0\\n    0.2436   -1.0997    5.0878 C   0  0  0  0  0  0  0  0  0  0  0  0\\n   -0.4337   -1.1587    6.3340 C   0  0  0  0  0  0  0  0  0  0  0  0\\n    0.1575   -1.4418    7.5455 C   0  0  0  0  0  0  0  0  0  0  0  0\\n   -0.8562   -1.5161    8.5110 C   0  0  0  0  0  0  0  0  0  0  0  0\\n   -2.0236   -1.2527    7.8558 C   0  0  0  0  0  0  0  0  0  0  0  0\\n   -1.7795   -1.0204    6.5549 O   0  0  0  0  0  0  0  0  0  0  0  0\\n   -0.4405   -0.0850    1.6095 N   0  0  0  0  0  0  0  0  0  0  0  0\\n    0.1132   -0.1423    0.3488 C   0  0  0  0  0  0  0  0  0  0  0  0\\n    1.4015   -0.6264    0.1399 C   0  0  0  0  0  0  0  0  0  0  0  0\\n    1.9053   -0.6908   -1.1466 C   0  0  0  0  0  0  0  0  0  0  0  0\\n    1.1828   -0.2636   -2.2614 C   0  0  0  0  0  0  0  0  0  0  0  0\\n    1.8549   -0.4284   -3.7629 Cl  0  0  0  0  0  0  0  0  0  0  0  0\\n   -0.1376    0.2732   -2.0315 C   0  0  0  0  0  0  0  0  0  0  0  0\\n   -1.1826    0.8639   -3.2556 S   0  0  0  0  0  0  0  0  0  0  0  0\\n   -2.0689   -0.1790   -3.5383 O   0  0  0  0  0  0  0  0  0  0  0  0\\n   -1.8077    2.0344   -2.7508 O   0  0  0  0  0  0  0  0  0  0  0  0\\n   -0.4509    1.3103   -4.6580 N   0  0  0  0  0  0  0  0  0  0  0  0\\n    0.1731    2.6545   -4.8305 C   0  0  0  0  0  0  0  0  0  0  0  0\\n    1.5818    2.4950   -5.4096 C   0  0  0  0  0  0  0  0  0  0  0  0\\n    1.4943    1.7041   -6.5877 O   0  0  0  0  0  0  0  0  0  0  0  0\\n    1.0353    0.3673   -6.3656 C   0  0  0  0  0  0  0  0  0  0  0  0\\n   -0.3628    0.3724   -5.8083 C   0  0  0  0  0  0  0  0  0  0  0  0\\n   -0.6463    0.2884   -0.7439 C   0  0  0  0  0  0  0  0  0  0  0  0\\n  1  2  2  0\\n  2  3  1  0\\n  3  4  2  0\\n  4  5  1  0\\n  5  6  2  0\\n  6  7  1  0\\n  7  8  2  0\\n  8  9  1  0\\n  2 10  1  0\\n 10 11  1  0\\n 11 12  2  0\\n 12 13  1  0\\n 13 14  2  0\\n 14 15  1  0\\n 14 16  1  0\\n 16 17  1  0\\n 17 18  2  0\\n 17 19  2  0\\n 17 20  1  0\\n 20 21  1  0\\n 21 22  1  0\\n 22 23  1  0\\n 23 24  1  0\\n 24 25  1  0\\n 16 26  2  0\\n  9  5  1  0\\n 26 11  1  0\\n 25 20  1  0\\nM  END\\n\",\"sdf\");\n\tviewer_17079829602703097.setStyle({\"stick\": {}});\n\tviewer_17079829602703097.setBackgroundColor(\"0xeeeeee\");\n\tviewer_17079829602703097.zoomTo();\nviewer_17079829602703097.render();\n});\n</script>",
      "text/html": [
       "<div id=\"3dmolviewer_17079829602703097\"  style=\"position: relative; width: 400px; height: 400px;\">\n",
       "        <p id=\"3dmolwarning_17079829602703097\" style=\"background-color:#ffcccc;color:black\">You appear to be running in JupyterLab (or JavaScript failed to load for some other reason).  You need to install the 3dmol extension: <br>\n",
       "        <tt>jupyter labextension install jupyterlab_3dmol</tt></p>\n",
       "        </div>\n",
       "<script>\n",
       "\n",
       "var loadScriptAsync = function(uri){\n",
       "  return new Promise((resolve, reject) => {\n",
       "    //this is to ignore the existence of requirejs amd\n",
       "    var savedexports, savedmodule;\n",
       "    if (typeof exports !== 'undefined') savedexports = exports;\n",
       "    else exports = {}\n",
       "    if (typeof module !== 'undefined') savedmodule = module;\n",
       "    else module = {}\n",
       "\n",
       "    var tag = document.createElement('script');\n",
       "    tag.src = uri;\n",
       "    tag.async = true;\n",
       "    tag.onload = () => {\n",
       "        exports = savedexports;\n",
       "        module = savedmodule;\n",
       "        resolve();\n",
       "    };\n",
       "  var firstScriptTag = document.getElementsByTagName('script')[0];\n",
       "  firstScriptTag.parentNode.insertBefore(tag, firstScriptTag);\n",
       "});\n",
       "};\n",
       "\n",
       "if(typeof $3Dmolpromise === 'undefined') {\n",
       "$3Dmolpromise = null;\n",
       "  $3Dmolpromise = loadScriptAsync('https://cdnjs.cloudflare.com/ajax/libs/3Dmol/2.0.4/3Dmol-min.js');\n",
       "}\n",
       "\n",
       "var viewer_17079829602703097 = null;\n",
       "var warn = document.getElementById(\"3dmolwarning_17079829602703097\");\n",
       "if(warn) {\n",
       "    warn.parentNode.removeChild(warn);\n",
       "}\n",
       "$3Dmolpromise.then(function() {\n",
       "viewer_17079829602703097 = $3Dmol.createViewer(document.getElementById(\"3dmolviewer_17079829602703097\"),{backgroundColor:\"white\"});\n",
       "viewer_17079829602703097.zoomTo();\n",
       "\tviewer_17079829602703097.removeAllModels();\n",
       "\tviewer_17079829602703097.addModel(\"\\n     RDKit          3D\\n\\n 26 28  0  0  0  0  0  0  0  0999 V2000\\n    1.3582   -1.0535    2.5500 O   0  0  0  0  0  0  0  0  0  0  0  0\\n    0.1833   -0.6496    2.6732 C   0  0  0  0  0  0  0  0  0  0  0  0\\n   -0.4946   -0.7554    3.9401 C   0  0  0  0  0  0  0  0  0  0  0  0\\n    0.2436   -1.0997    5.0878 C   0  0  0  0  0  0  0  0  0  0  0  0\\n   -0.4337   -1.1587    6.3340 C   0  0  0  0  0  0  0  0  0  0  0  0\\n    0.1575   -1.4418    7.5455 C   0  0  0  0  0  0  0  0  0  0  0  0\\n   -0.8562   -1.5161    8.5110 C   0  0  0  0  0  0  0  0  0  0  0  0\\n   -2.0236   -1.2527    7.8558 C   0  0  0  0  0  0  0  0  0  0  0  0\\n   -1.7795   -1.0204    6.5549 O   0  0  0  0  0  0  0  0  0  0  0  0\\n   -0.4405   -0.0850    1.6095 N   0  0  0  0  0  0  0  0  0  0  0  0\\n    0.1132   -0.1423    0.3488 C   0  0  0  0  0  0  0  0  0  0  0  0\\n    1.4015   -0.6264    0.1399 C   0  0  0  0  0  0  0  0  0  0  0  0\\n    1.9053   -0.6908   -1.1466 C   0  0  0  0  0  0  0  0  0  0  0  0\\n    1.1828   -0.2636   -2.2614 C   0  0  0  0  0  0  0  0  0  0  0  0\\n    1.8549   -0.4284   -3.7629 Cl  0  0  0  0  0  0  0  0  0  0  0  0\\n   -0.1376    0.2732   -2.0315 C   0  0  0  0  0  0  0  0  0  0  0  0\\n   -1.1826    0.8639   -3.2556 S   0  0  0  0  0  0  0  0  0  0  0  0\\n   -2.0689   -0.1790   -3.5383 O   0  0  0  0  0  0  0  0  0  0  0  0\\n   -1.8077    2.0344   -2.7508 O   0  0  0  0  0  0  0  0  0  0  0  0\\n   -0.4509    1.3103   -4.6580 N   0  0  0  0  0  0  0  0  0  0  0  0\\n    0.1731    2.6545   -4.8305 C   0  0  0  0  0  0  0  0  0  0  0  0\\n    1.5818    2.4950   -5.4096 C   0  0  0  0  0  0  0  0  0  0  0  0\\n    1.4943    1.7041   -6.5877 O   0  0  0  0  0  0  0  0  0  0  0  0\\n    1.0353    0.3673   -6.3656 C   0  0  0  0  0  0  0  0  0  0  0  0\\n   -0.3628    0.3724   -5.8083 C   0  0  0  0  0  0  0  0  0  0  0  0\\n   -0.6463    0.2884   -0.7439 C   0  0  0  0  0  0  0  0  0  0  0  0\\n  1  2  2  0\\n  2  3  1  0\\n  3  4  2  0\\n  4  5  1  0\\n  5  6  2  0\\n  6  7  1  0\\n  7  8  2  0\\n  8  9  1  0\\n  2 10  1  0\\n 10 11  1  0\\n 11 12  2  0\\n 12 13  1  0\\n 13 14  2  0\\n 14 15  1  0\\n 14 16  1  0\\n 16 17  1  0\\n 17 18  2  0\\n 17 19  2  0\\n 17 20  1  0\\n 20 21  1  0\\n 21 22  1  0\\n 22 23  1  0\\n 23 24  1  0\\n 24 25  1  0\\n 16 26  2  0\\n  9  5  1  0\\n 26 11  1  0\\n 25 20  1  0\\nM  END\\n\",\"sdf\");\n",
       "\tviewer_17079829602703097.setStyle({\"stick\": {}});\n",
       "\tviewer_17079829602703097.setBackgroundColor(\"0xeeeeee\");\n",
       "\tviewer_17079829602703097.zoomTo();\n",
       "viewer_17079829602703097.render();\n",
       "});\n",
       "</script>"
      ]
     },
     "metadata": {},
     "output_type": "display_data"
    }
   ],
   "source": [
    "import torch\n",
    "import ipywidgets as widgets\n",
    "import os \n",
    "\n",
    "from inference import Inference\n",
    "from IPython.display import clear_output \n",
    "from rdkit.Chem.Draw.IPythonConsole import drawMol3D\n",
    "from rdkit.Chem import MolFromSmiles, AllChem\n",
    "\n",
    "\n",
    "def sampling(smiles:str, model_path:str, reference:bool=False, N:int=1, \n",
    "             save:bool=False, timesteps:int=0):\n",
    "    \n",
    "    print('rdkit generation')\n",
    "    mol = MolFromSmiles(smiles)\n",
    "    AllChem.EmbedMolecule(mol)\n",
    "    drawMol3D(mol)\n",
    "    \n",
    "    print('\\nconfgen generation')\n",
    "    inference = Inference(device, os.path.join('./model', model_path))\n",
    "    inference.sampling(\n",
    "        smiles    = smiles, \n",
    "        N         = N,\n",
    "        save      = save,\n",
    "        timesteps = timesteps\n",
    "    )\n",
    "    \n",
    "        \n",
    "        \n",
    "def on_click(change):\n",
    "    \n",
    "    sampling(\n",
    "        smiles      = smiles_widgets.value, \n",
    "        model_path  = model_widgets.value,\n",
    "        N           = sample_widgets.value,\n",
    "        save        = save_widgets.value,\n",
    "        timesteps   = timesteps_widgets.value\n",
    "    )\n",
    " \n",
    "\n",
    "smiles_widgets = widgets.Textarea(\n",
    "                    value='O=C(/C=C/c1ccco1)Nc1ccc(Cl)c(S(=O)(=O)N2CCOCC2)c1',\n",
    "                    placeholder='Type something',\n",
    "                    description='SMILES:',\n",
    "                    disabled=False,\n",
    "                    layout=widgets.Layout(height=\"100%\", width=\"auto\")\n",
    "                )\n",
    "\n",
    "sample_widgets = widgets.IntSlider(\n",
    "                    value=4,\n",
    "                    min=1,\n",
    "                    max=8,\n",
    "                    step=1,\n",
    "                    description='Sample:',\n",
    "                    orientation='horizontal',\n",
    "                )\n",
    "\n",
    "timesteps_widgets = widgets.IntSlider(\n",
    "                    value=0,\n",
    "                    min=0,\n",
    "                    max=500,\n",
    "                    step=10,\n",
    "                    description='Timesteps:',\n",
    "                    orientation='horizontal',\n",
    "                )\n",
    "\n",
    "button_widgets = widgets.ToggleButton(\n",
    "                    value=False,\n",
    "                    description='run',\n",
    "                    disabled=False,\n",
    "                    button_style='', # 'success', 'info', 'warning', 'danger' or ''\n",
    "                    tooltip='Description',\n",
    "                    icon='check' # (FontAwesome names without the `fa-` prefix)\n",
    "                )\n",
    " \n",
    "model_widgets = widgets.Dropdown(\n",
    "                    options=[model for model in sorted(os.listdir(\"./model\"))],\n",
    "                    description='Model:',\n",
    "                    disabled=False,\n",
    "                )\n",
    " \n",
    "save_widgets = widgets.Checkbox(\n",
    "                    value       = False,\n",
    "                    description = 'PDB file save',\n",
    "                    disabled    = False,\n",
    "                    indent      = False\n",
    "                )\n",
    " \n",
    "device = 'cuda' if torch.cuda.is_available() else 'cpu'\n",
    "button_widgets.observe(on_click, 'value')\n",
    "\n",
    "clear_output()\n",
    "display(smiles_widgets, sample_widgets, timesteps_widgets, model_widgets, button_widgets, save_widgets)"
   ]
  },
  {
   "attachments": {},
   "cell_type": "markdown",
   "metadata": {},
   "source": [
    "### Conditional Sampling"
   ]
  },
  {
   "cell_type": "code",
   "execution_count": 3,
   "metadata": {},
   "outputs": [
    {
     "data": {
      "application/vnd.jupyter.widget-view+json": {
       "model_id": "60c2a0e113f04be08939c70343d40f9e",
       "version_major": 2,
       "version_minor": 0
      },
      "text/plain": [
       "Textarea(value='../../MotifDock/data/posebusters_benchmark_set/', description='Path:', layout=Layout(height='1…"
      ]
     },
     "metadata": {},
     "output_type": "display_data"
    },
    {
     "data": {
      "application/vnd.jupyter.widget-view+json": {
       "model_id": "d8b5f5641ba94146a8aee08c04e1ba28",
       "version_major": 2,
       "version_minor": 0
      },
      "text/plain": [
       "IntSlider(value=4, description='Sample:', max=8, min=1)"
      ]
     },
     "metadata": {},
     "output_type": "display_data"
    },
    {
     "data": {
      "application/vnd.jupyter.widget-view+json": {
       "model_id": "93c8daa17a364f10814e6a2b96abe989",
       "version_major": 2,
       "version_minor": 0
      },
      "text/plain": [
       "IntSlider(value=50, description='Timesteps:', max=500, step=10)"
      ]
     },
     "metadata": {},
     "output_type": "display_data"
    },
    {
     "data": {
      "application/vnd.jupyter.widget-view+json": {
       "model_id": "d352faafb4e045e0acd3b85d2f5c5825",
       "version_major": 2,
       "version_minor": 0
      },
      "text/plain": [
       "IntSlider(value=10, description='Resamlpe:', max=10, min=1)"
      ]
     },
     "metadata": {},
     "output_type": "display_data"
    },
    {
     "data": {
      "application/vnd.jupyter.widget-view+json": {
       "model_id": "9a90b1a4f4de46bbbd4f92ce3ef78f9f",
       "version_major": 2,
       "version_minor": 0
      },
      "text/plain": [
       "IntSlider(value=100, description='Refix steps', max=500)"
      ]
     },
     "metadata": {},
     "output_type": "display_data"
    },
    {
     "data": {
      "application/vnd.jupyter.widget-view+json": {
       "model_id": "67ccde6d9d08414bbf4aa5d4859f98db",
       "version_major": 2,
       "version_minor": 0
      },
      "text/plain": [
       "Dropdown(description='Mode', options=('fixed', 'replacement', 'silvr'), value='fixed')"
      ]
     },
     "metadata": {},
     "output_type": "display_data"
    },
    {
     "data": {
      "application/vnd.jupyter.widget-view+json": {
       "model_id": "468f58a6b8b2475d9d48b24a10ed45f9",
       "version_major": 2,
       "version_minor": 0
      },
      "text/plain": [
       "Dropdown(description='Model:', options=('cluster.pt', 'cluster2.pt', 'cluster3.pt', 'eps=False.pt', 'eps=True.…"
      ]
     },
     "metadata": {},
     "output_type": "display_data"
    },
    {
     "data": {
      "application/vnd.jupyter.widget-view+json": {
       "model_id": "b28ff86c2a0b4abd8f30654fbd59e5e1",
       "version_major": 2,
       "version_minor": 0
      },
      "text/plain": [
       "ToggleButton(value=False, description='run', icon='check', tooltip='Description')"
      ]
     },
     "metadata": {},
     "output_type": "display_data"
    },
    {
     "data": {
      "application/vnd.jupyter.widget-view+json": {
       "model_id": "708d6a9204994979a2700c5bc1137e7d",
       "version_major": 2,
       "version_minor": 0
      },
      "text/plain": [
       "Checkbox(value=False, description='PDB file save', indent=False)"
      ]
     },
     "metadata": {},
     "output_type": "display_data"
    },
    {
     "data": {
      "application/vnd.jupyter.widget-view+json": {
       "model_id": "8535c522dc7340a486dd257f5412c7d9",
       "version_major": 2,
       "version_minor": 0
      },
      "text/plain": [
       "FloatSlider(value=0.01, description='silvr_rate', max=1.0, step=0.01)"
      ]
     },
     "metadata": {},
     "output_type": "display_data"
    }
   ],
   "source": [
    "import torch\n",
    "import ipywidgets as widgets\n",
    "import os \n",
    "\n",
    "from inference import Inference\n",
    "from IPython.display import clear_output \n",
    "\n",
    " \n",
    "def conditional_sampling(\n",
    "    motifdock_dir_path, \n",
    "    model_path:str, \n",
    "    mode:str='replacement',\n",
    "    N:int=1, \n",
    "    resampling:int=1,\n",
    "    timesteps:int=0,\n",
    "    refix_steps:int=100,\n",
    "    save:bool=False,\n",
    "    silvr_rate:float=0.01\n",
    "    ):\n",
    "    \n",
    "    inference = Inference(device, os.path.join('./model', model_path))\n",
    "    inference.conditional_sampling(\n",
    "        motifdock_dir_path = motifdock_dir_path, \n",
    "        mode               = mode, \n",
    "        N                  = N, \n",
    "        timesteps          = timesteps,\n",
    "        resampling         = resampling,\n",
    "        refix_steps        = refix_steps,\n",
    "        save               = save,\n",
    "        silvr_rate = silvr_rate\n",
    "    )\n",
    "\n",
    "        \n",
    "def on_click(change):\n",
    "    \n",
    "    conditional_sampling(\n",
    "        motifdock_dir_path = path_widgets.value,\n",
    "        model_path         = model_widgets.value, \n",
    "        mode               = mode_widgets.value, \n",
    "        N                  = sample_widgets.value, \n",
    "        resampling         = resampling_widgets.value,\n",
    "        timesteps          = timesteps_widgets.value,\n",
    "        refix_steps        = refix_widgets.value,\n",
    "        save               = save_widgets.value,\n",
    "        silvr_rate = silvr_widgets.value\n",
    "    )\n",
    "    \n",
    "    \n",
    "path_widgets = widgets.Textarea(\n",
    "                    value='../../MotifDock/data/posebusters_benchmark_set/',\n",
    "                    placeholder='Type something',\n",
    "                    description='Path:',\n",
    "                    disabled=False,\n",
    "                    layout=widgets.Layout(height=\"100%\", width=\"auto\")\n",
    "                )\n",
    "\n",
    "sample_widgets = widgets.IntSlider(\n",
    "                    value=4,\n",
    "                    min=1,\n",
    "                    max=8,\n",
    "                    step=1,\n",
    "                    description='Sample:',\n",
    "                    orientation='horizontal',\n",
    "                )\n",
    "\n",
    "timesteps_widgets = widgets.IntSlider(\n",
    "                    value=50,\n",
    "                    min=0,\n",
    "                    max=500,\n",
    "                    step=10,\n",
    "                    description='Timesteps:',\n",
    "                    orientation='horizontal',\n",
    "                )\n",
    "\n",
    "resampling_widgets = widgets.IntSlider(\n",
    "                    value=10,\n",
    "                    min=1,\n",
    "                    max=10,\n",
    "                    step=1,\n",
    "                    description='Resamlpe:',\n",
    "                    orientation='horizontal',\n",
    "                )\n",
    "\n",
    "refix_widgets = widgets.IntSlider(\n",
    "                    value = 100,\n",
    "                    min = 0,\n",
    "                    max = 500,\n",
    "                    step = 1,\n",
    "                    description='Refix steps',\n",
    "                    orientation='horizontal',\n",
    "                )\n",
    "\n",
    "silvr_widgets = widgets.FloatSlider(\n",
    "                    value = 0.01,\n",
    "                    min = 0,\n",
    "                    max = 1,\n",
    "                    step = 0.01,\n",
    "                    description='silvr_rate',\n",
    "                    orientation='horizontal',\n",
    "                )\n",
    "\n",
    "mode_widgets = widgets.Dropdown(\n",
    "                    options=['fixed', 'replacement', 'silvr'],\n",
    "                    value='fixed',\n",
    "                    description='Mode',\n",
    "                    disabled=False,\n",
    "                )\n",
    "\n",
    "model_widgets = widgets.Dropdown(\n",
    "                options=[model for model in sorted(os.listdir(\"./model\"))],\n",
    "                description='Model:',\n",
    "                disabled=False,\n",
    "            )\n",
    " \n",
    " \n",
    "button_widgets = widgets.ToggleButton(\n",
    "                    value=False,\n",
    "                    description='run',\n",
    "                    disabled=False,\n",
    "                    button_style='', # 'success', 'info', 'warning', 'danger' or ''\n",
    "                    tooltip='Description',\n",
    "                    icon='check' # (FontAwesome names without the `fa-` prefix)\n",
    "                )\n",
    "\n",
    "save_widgets = widgets.Checkbox(\n",
    "                    value       = False,\n",
    "                    description = 'PDB file save',\n",
    "                    disabled    = False,\n",
    "                    indent      = False\n",
    "                )\n",
    " \n",
    " \n",
    "device = 'cuda' if torch.cuda.is_available() else 'cpu'\n",
    "button_widgets.observe(on_click, 'value')\n",
    "\n",
    "clear_output()\n",
    "display(path_widgets, sample_widgets, timesteps_widgets, resampling_widgets, refix_widgets, mode_widgets, model_widgets, button_widgets, save_widgets, silvr_widgets)"
   ]
  }
 ],
 "metadata": {
  "kernelspec": {
   "display_name": "motifdock",
   "language": "python",
   "name": "python3"
  },
  "language_info": {
   "codemirror_mode": {
    "name": "ipython",
    "version": 3
   },
   "file_extension": ".py",
   "mimetype": "text/x-python",
   "name": "python",
   "nbconvert_exporter": "python",
   "pygments_lexer": "ipython3",
   "version": "3.9.18"
  },
  "orig_nbformat": 4
 },
 "nbformat": 4,
 "nbformat_minor": 2
}
